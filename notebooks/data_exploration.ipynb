{
 "cells": [
  {
   "cell_type": "markdown",
   "metadata": {},
   "source": [
    "# Exploration du Master DataFrame - Données Épidémiologiques\n",
    "\n",
    "Ce notebook explore le fichier `master_dataframe.csv` qui merge :\n",
    "- **Vaccination grippe** (par département/année)\n",
    "- **IAS** (Indicateur Activité Syndromique, quotidien)\n",
    "- **Urgences** (passages urgences + SOS médecins, hebdomadaire)\n",
    "\n",
    "**Objectif** : Prédire les vagues épidémiques avec un modèle d'IA"
   ]
  },
  {
   "cell_type": "code",
   "execution_count": null,
   "metadata": {},
   "outputs": [],
   "source": [
    "import pandas as pd\n",
    "import numpy as np\n",
    "import matplotlib.pyplot as plt\n",
    "import seaborn as sns\n",
    "from datetime import datetime\n",
    "\n",
    "# Config visualisation\n",
    "plt.style.use('seaborn-v0_8-darkgrid')\n",
    "sns.set_palette('husl')\n",
    "%matplotlib inline"
   ]
  },
  {
   "cell_type": "markdown",
   "metadata": {},
   "source": [
    "## 1. Chargement et aperçu des données"
   ]
  },
  {
   "cell_type": "code",
   "execution_count": null,
   "metadata": {},
   "outputs": [],
   "source": [
    "# Chargement\n",
    "df = pd.read_csv('../data/processed/master_dataframe.csv')\n",
    "df['date_semaine'] = pd.to_datetime(df['date_semaine'])\n",
    "\n",
    "print(f\"Shape : {df.shape}\")\n",
    "print(f\"Période : {df['date_semaine'].min()} → {df['date_semaine'].max()}\")\n",
    "print(f\"Régions : {df['region'].nunique()}\")"
   ]
  },
  {
   "cell_type": "code",
   "execution_count": null,
   "metadata": {},
   "outputs": [],
   "source": [
    "# Aperçu\n",
    "df.head(10)"
   ]
  },
  {
   "cell_type": "code",
   "execution_count": null,
   "metadata": {},
   "outputs": [],
   "source": [
    "# Info sur les types et valeurs manquantes\n",
    "df.info()"
   ]
  },
  {
   "cell_type": "code",
   "execution_count": null,
   "metadata": {},
   "outputs": [],
   "source": [
    "# Statistiques descriptives\n",
    "df.describe()"
   ]
  },
  {
   "cell_type": "markdown",
   "metadata": {},
   "source": [
    "## 2. Analyse des valeurs manquantes"
   ]
  },
  {
   "cell_type": "code",
   "execution_count": null,
   "metadata": {},
   "outputs": [],
   "source": [
    "# Heatmap des valeurs manquantes\n",
    "missing = df.isnull().sum().sort_values(ascending=False)\n",
    "missing_pct = 100 * missing / len(df)\n",
    "\n",
    "missing_df = pd.DataFrame({\n",
    "    'Colonnes': missing.index,\n",
    "    'Manquantes': missing.values,\n",
    "    'Pourcentage': missing_pct.values\n",
    "})\n",
    "\n",
    "missing_df = missing_df[missing_df['Manquantes'] > 0]\n",
    "print(missing_df.to_string(index=False))"
   ]
  },
  {
   "cell_type": "code",
   "execution_count": null,
   "metadata": {},
   "outputs": [],
   "source": [
    "# Visualisation\n",
    "plt.figure(figsize=(10, 6))\n",
    "missing_df.set_index('Colonnes')['Pourcentage'].plot(kind='barh', color='coral')\n",
    "plt.xlabel('% Valeurs manquantes')\n",
    "plt.title('Valeurs manquantes par colonne')\n",
    "plt.tight_layout()\n",
    "plt.show()"
   ]
  },
  {
   "cell_type": "markdown",
   "metadata": {},
   "source": [
    "## 3. Analyse temporelle"
   ]
  },
  {
   "cell_type": "code",
   "execution_count": null,
   "metadata": {},
   "outputs": [],
   "source": [
    "# Distribution des données par région\n",
    "region_counts = df['region'].value_counts().sort_values()\n",
    "print(region_counts)"
   ]
  },
  {
   "cell_type": "code",
   "execution_count": null,
   "metadata": {},
   "outputs": [],
   "source": [
    "# Distribution des données par année\n",
    "year_counts = df['annee'].value_counts().sort_index()\n",
    "print(year_counts)\n",
    "\n",
    "plt.figure(figsize=(10, 5))\n",
    "year_counts.plot(kind='bar', color='skyblue')\n",
    "plt.xlabel('Année')\n",
    "plt.ylabel('Nombre de semaines (toutes régions)')\n",
    "plt.title('Distribution temporelle des données')\n",
    "plt.xticks(rotation=45)\n",
    "plt.tight_layout()\n",
    "plt.show()"
   ]
  },
  {
   "cell_type": "markdown",
   "metadata": {},
   "source": [
    "## 4. Analyse des urgences et SOS médecins"
   ]
  },
  {
   "cell_type": "code",
   "execution_count": null,
   "metadata": {},
   "outputs": [],
   "source": [
    "# Évolution temporelle des urgences (moyenne France)\n",
    "urgences_time = df.groupby('date_semaine').agg({\n",
    "    'urgences_grippe': 'mean',\n",
    "    'sos_medecins': 'mean'\n",
    "})\n",
    "\n",
    "fig, axes = plt.subplots(2, 1, figsize=(14, 8))\n",
    "\n",
    "# Urgences\n",
    "urgences_time['urgences_grippe'].plot(ax=axes[0], color='darkred', linewidth=1.5)\n",
    "axes[0].set_title('Évolution des passages aux urgences pour grippe (moyenne nationale)', fontsize=14)\n",
    "axes[0].set_ylabel('Urgences grippe')\n",
    "axes[0].grid(True, alpha=0.3)\n",
    "\n",
    "# SOS Médecins\n",
    "urgences_time['sos_medecins'].plot(ax=axes[1], color='darkblue', linewidth=1.5)\n",
    "axes[1].set_title('Évolution des appels SOS médecins (moyenne nationale)', fontsize=14)\n",
    "axes[1].set_ylabel('SOS médecins')\n",
    "axes[1].set_xlabel('Date')\n",
    "axes[1].grid(True, alpha=0.3)\n",
    "\n",
    "plt.tight_layout()\n",
    "plt.show()"
   ]
  },
  {
   "cell_type": "markdown",
   "metadata": {},
   "source": [
    "## 5. Analyse de l'IAS (Indicateur Activité Syndromique)"
   ]
  },
  {
   "cell_type": "code",
   "execution_count": null,
   "metadata": {},
   "outputs": [],
   "source": [
    "# Disponibilité des données IAS\n",
    "df_ias = df[df['taux_ias_moyen'].notna()]\n",
    "print(f\"Données IAS disponibles : {len(df_ias)} / {len(df)} lignes ({100*len(df_ias)/len(df):.1f}%)\")\n",
    "print(f\"Période IAS : {df_ias['date_semaine'].min()} → {df_ias['date_semaine'].max()}\")"
   ]
  },
  {
   "cell_type": "code",
   "execution_count": null,
   "metadata": {},
   "outputs": [],
   "source": [
    "# Évolution IAS moyen France\n",
    "if len(df_ias) > 0:\n",
    "    ias_time = df_ias.groupby('date_semaine')['taux_ias_moyen'].mean()\n",
    "    \n",
    "    plt.figure(figsize=(14, 5))\n",
    "    ias_time.plot(color='green', linewidth=2)\n",
    "    plt.title('Évolution du taux IAS moyen (Indicateur Activité Syndromique)', fontsize=14)\n",
    "    plt.ylabel('Taux IAS')\n",
    "    plt.xlabel('Date')\n",
    "    plt.grid(True, alpha=0.3)\n",
    "    plt.tight_layout()\n",
    "    plt.show()"
   ]
  },
  {
   "cell_type": "markdown",
   "metadata": {},
   "source": [
    "## 6. Comparaison régionale"
   ]
  },
  {
   "cell_type": "code",
   "execution_count": null,
   "metadata": {},
   "outputs": [],
   "source": [
    "# Top régions avec le plus d'urgences grippe\n",
    "top_regions = df.groupby('region').agg({\n",
    "    'urgences_grippe': 'mean',\n",
    "    'sos_medecins': 'mean'\n",
    "}).sort_values('urgences_grippe', ascending=False)\n",
    "\n",
    "print(\"Top 10 régions - Urgences grippe (moyenne)\")\n",
    "print(top_regions.head(10))"
   ]
  },
  {
   "cell_type": "code",
   "execution_count": null,
   "metadata": {},
   "outputs": [],
   "source": [
    "# Visualisation top 5 régions\n",
    "top5_regions = top_regions.head(5).index\n",
    "\n",
    "plt.figure(figsize=(14, 6))\n",
    "for region in top5_regions:\n",
    "    df_region = df[df['region'] == region]\n",
    "    plt.plot(df_region['date_semaine'], df_region['urgences_grippe'], \n",
    "             label=region, linewidth=1.5, alpha=0.8)\n",
    "\n",
    "plt.title('Évolution des urgences grippe - Top 5 régions', fontsize=14)\n",
    "plt.xlabel('Date')\n",
    "plt.ylabel('Urgences grippe')\n",
    "plt.legend()\n",
    "plt.grid(True, alpha=0.3)\n",
    "plt.tight_layout()\n",
    "plt.show()"
   ]
  },
  {
   "cell_type": "markdown",
   "metadata": {},
   "source": [
    "## 7. Analyse de la vaccination"
   ]
  },
  {
   "cell_type": "code",
   "execution_count": null,
   "metadata": {},
   "outputs": [],
   "source": [
    "# Données de vaccination disponibles\n",
    "df_vacc = df[df['vacc_65_plus'].notna()]\n",
    "print(f\"Données vaccination disponibles : {len(df_vacc)} / {len(df)} lignes ({100*len(df_vacc)/len(df):.1f}%)\")\n",
    "\n",
    "if len(df_vacc) > 0:\n",
    "    # Évolution moyenne par année\n",
    "    vacc_year = df_vacc.groupby('annee').agg({\n",
    "        'vacc_moins_65_risque': 'mean',\n",
    "        'vacc_65_plus': 'mean'\n",
    "    })\n",
    "    \n",
    "    print(\"\\nTaux de vaccination moyen par année :\")\n",
    "    print(vacc_year)"
   ]
  },
  {
   "cell_type": "code",
   "execution_count": null,
   "metadata": {},
   "outputs": [],
   "source": [
    "# Visualisation\n",
    "if len(df_vacc) > 0:\n",
    "    plt.figure(figsize=(12, 5))\n",
    "    vacc_year.plot(kind='bar', width=0.8)\n",
    "    plt.title('Évolution de la couverture vaccinale grippe par âge', fontsize=14)\n",
    "    plt.ylabel('Taux de vaccination (%)')\n",
    "    plt.xlabel('Année')\n",
    "    plt.legend(['Moins de 65 ans à risque', '65 ans et plus'])\n",
    "    plt.xticks(rotation=45)\n",
    "    plt.grid(True, alpha=0.3)\n",
    "    plt.tight_layout()\n",
    "    plt.show()"
   ]
  },
  {
   "cell_type": "markdown",
   "metadata": {},
   "source": [
    "## 8. Corrélations entre variables"
   ]
  },
  {
   "cell_type": "code",
   "execution_count": null,
   "metadata": {},
   "outputs": [],
   "source": [
    "# Matrice de corrélation (colonnes numériques)\n",
    "numeric_cols = ['taux_ias_moyen', 'urgences_grippe', 'sos_medecins', \n",
    "                'vacc_moins_65_risque', 'vacc_65_plus', 'mois', 'semaine_annee']\n",
    "\n",
    "corr_matrix = df[numeric_cols].corr()\n",
    "\n",
    "plt.figure(figsize=(10, 8))\n",
    "sns.heatmap(corr_matrix, annot=True, fmt='.2f', cmap='coolwarm', \n",
    "            center=0, square=True, linewidths=1)\n",
    "plt.title('Matrice de corrélation - Variables épidémiologiques', fontsize=14)\n",
    "plt.tight_layout()\n",
    "plt.show()"
   ]
  },
  {
   "cell_type": "markdown",
   "metadata": {},
   "source": [
    "## 9. Analyse saisonnière"
   ]
  },
  {
   "cell_type": "code",
   "execution_count": null,
   "metadata": {},
   "outputs": [],
   "source": [
    "# Distribution par mois\n",
    "monthly_avg = df.groupby('mois').agg({\n",
    "    'urgences_grippe': 'mean',\n",
    "    'sos_medecins': 'mean'\n",
    "})\n",
    "\n",
    "months = ['Jan', 'Fév', 'Mar', 'Avr', 'Mai', 'Juin', \n",
    "          'Juil', 'Août', 'Sep', 'Oct', 'Nov', 'Déc']\n",
    "\n",
    "fig, axes = plt.subplots(1, 2, figsize=(14, 5))\n",
    "\n",
    "# Urgences\n",
    "monthly_avg['urgences_grippe'].plot(kind='bar', ax=axes[0], color='darkred', width=0.8)\n",
    "axes[0].set_title('Urgences grippe par mois (moyenne)', fontsize=12)\n",
    "axes[0].set_ylabel('Urgences')\n",
    "axes[0].set_xlabel('Mois')\n",
    "axes[0].set_xticklabels(months, rotation=45)\n",
    "axes[0].grid(True, alpha=0.3)\n",
    "\n",
    "# SOS\n",
    "monthly_avg['sos_medecins'].plot(kind='bar', ax=axes[1], color='darkblue', width=0.8)\n",
    "axes[1].set_title('SOS médecins par mois (moyenne)', fontsize=12)\n",
    "axes[1].set_ylabel('SOS médecins')\n",
    "axes[1].set_xlabel('Mois')\n",
    "axes[1].set_xticklabels(months, rotation=45)\n",
    "axes[1].grid(True, alpha=0.3)\n",
    "\n",
    "plt.tight_layout()\n",
    "plt.show()"
   ]
  },
  {
   "cell_type": "code",
   "execution_count": null,
   "metadata": {},
   "outputs": [],
   "source": [
    "# Comparaison hiver/été\n",
    "saison_avg = df.groupby('saison').agg({\n",
    "    'urgences_grippe': 'mean',\n",
    "    'sos_medecins': 'mean'\n",
    "})\n",
    "\n",
    "print(\"Moyenne par saison :\")\n",
    "print(saison_avg)\n",
    "\n",
    "saison_avg.plot(kind='bar', figsize=(8, 5), width=0.7)\n",
    "plt.title('Activité épidémique par saison', fontsize=14)\n",
    "plt.ylabel('Moyenne')\n",
    "plt.xlabel('Saison')\n",
    "plt.xticks(rotation=0)\n",
    "plt.legend(['Urgences grippe', 'SOS médecins'])\n",
    "plt.grid(True, alpha=0.3)\n",
    "plt.tight_layout()\n",
    "plt.show()"
   ]
  },
  {
   "cell_type": "markdown",
   "metadata": {},
   "source": [
    "## 10. Préparation pour le Machine Learning"
   ]
  },
  {
   "cell_type": "code",
   "execution_count": null,
   "metadata": {},
   "outputs": [],
   "source": [
    "# Vérification des données exploitables pour ML\n",
    "print(\"Préparation dataset ML :\")\n",
    "print(\"=\"*50)\n",
    "\n",
    "# Dataset complet (avec urgences, target principale)\n",
    "df_ml = df.dropna(subset=['urgences_grippe', 'sos_medecins'])\n",
    "print(f\"Lignes avec urgences/SOS : {len(df_ml)}\")\n",
    "\n",
    "# Features disponibles\n",
    "features_complete = df_ml[['taux_ias_moyen', 'vacc_65_plus', 'mois', 'semaine_annee']].notna().sum()\n",
    "print(f\"\\nDisponibilité features :\")\n",
    "print(features_complete)\n",
    "\n",
    "# Target : urgences grippe\n",
    "print(f\"\\nTarget (urgences_grippe) stats :\")\n",
    "print(df_ml['urgences_grippe'].describe())"
   ]
  },
  {
   "cell_type": "code",
   "execution_count": null,
   "metadata": {},
   "outputs": [],
   "source": [
    "# Export dataset ML-ready\n",
    "output_path = '../data/processed/ml_ready_dataset.csv'\n",
    "df_ml.to_csv(output_path, index=False)\n",
    "print(f\"Dataset ML exporté : {output_path}\")\n",
    "print(f\"Shape : {df_ml.shape}\")"
   ]
  },
  {
   "cell_type": "markdown",
   "metadata": {},
   "source": [
    "## Conclusions\n",
    "\n",
    "### Points clés :\n",
    "\n",
    "1. **Période** : Données de 2019 à 2025 (6 ans)\n",
    "2. **Granularité** : Hebdomadaire × Région\n",
    "3. **18 régions** françaises couvertes\n",
    "\n",
    "### Variables principales :\n",
    "- **Target** : `urgences_grippe` (passages urgences pour grippe)\n",
    "- **Features** : \n",
    "  - `taux_ias_moyen` (indicateur syndromique)\n",
    "  - `sos_medecins` (appels SOS)\n",
    "  - `vacc_65_plus` (couverture vaccinale)\n",
    "  - Features temporelles (mois, semaine, saison)\n",
    "\n",
    "### Pour votre app :\n",
    "- Utilisez `master_dataframe.csv` pour toutes les visualisations\n",
    "- Filtrage facile par `region` et `date_semaine`\n",
    "- Détection de pics : seuils sur `urgences_grippe` ou `taux_ias_moyen`\n",
    "- Prédictions : modèle LSTM/Prophet sur série temporelle\n",
    "\n",
    "### Prochaines étapes :\n",
    "1. Feature engineering avancé (lags, rolling means)\n",
    "2. Entraînement modèle de prédiction\n",
    "3. Intégration dans l'app Streamlit\n"
   ]
  }
 ],
 "metadata": {
  "kernelspec": {
   "display_name": "Python 3",
   "language": "python",
   "name": "python3"
  },
  "language_info": {
   "codemirror_mode": {
    "name": "ipython",
    "version": 3
   },
   "file_extension": ".py",
   "mimetype": "text/x-python",
   "name": "python",
   "nbconvert_exporter": "python",
   "pygments_lexer": "ipython3",
   "version": "3.9.0"
  }
 },
 "nbformat": 4,
 "nbformat_minor": 4
}
